{
  "nbformat": 4,
  "nbformat_minor": 0,
  "metadata": {
    "colab": {
      "provenance": [],
      "authorship_tag": "ABX9TyMLP2mtVADl1dgGw/w440Lv",
      "include_colab_link": true
    },
    "kernelspec": {
      "name": "python3",
      "display_name": "Python 3"
    },
    "language_info": {
      "name": "python"
    }
  },
  "cells": [
    {
      "cell_type": "markdown",
      "metadata": {
        "id": "view-in-github",
        "colab_type": "text"
      },
      "source": [
        "<a href=\"https://colab.research.google.com/github/KimNikita/machine-learning-practice/blob/main/Preprocessing.ipynb\" target=\"_parent\"><img src=\"https://colab.research.google.com/assets/colab-badge.svg\" alt=\"Open In Colab\"/></a>"
      ]
    },
    {
      "cell_type": "code",
      "execution_count": 1,
      "metadata": {
        "id": "77eIKh9QhonV"
      },
      "outputs": [],
      "source": [
        "import numpy as np\n",
        "import matplotlib.pyplot as plt\n",
        "%matplotlib inline\n",
        "import pandas as pd\n",
        "import seaborn as sns\n",
        "import sklearn"
      ]
    },
    {
      "cell_type": "code",
      "source": [
        "url = \"https://raw.githubusercontent.com/KimNikita/machine-learning-practice/main/anime-dataset-2023.csv\"\n",
        "data_raw = pd.read_csv(url)"
      ],
      "metadata": {
        "id": "b8dVIKExh9oN"
      },
      "execution_count": 2,
      "outputs": []
    },
    {
      "cell_type": "code",
      "source": [
        "data_raw.shape"
      ],
      "metadata": {
        "colab": {
          "base_uri": "https://localhost:8080/"
        },
        "id": "9OfKtA0znp_-",
        "outputId": "b63ff796-3254-4be8-92a1-ed0d8dbf85ef"
      },
      "execution_count": 3,
      "outputs": [
        {
          "output_type": "execute_result",
          "data": {
            "text/plain": [
              "(24905, 24)"
            ]
          },
          "metadata": {},
          "execution_count": 3
        }
      ]
    },
    {
      "cell_type": "code",
      "source": [
        "data_raw.head()"
      ],
      "metadata": {
        "id": "5afcaMB_nuTA"
      },
      "execution_count": null,
      "outputs": []
    },
    {
      "cell_type": "markdown",
      "source": [
        "#Удаление ненужных столбцов"
      ],
      "metadata": {
        "id": "1_SpEaRD21WU"
      }
    },
    {
      "cell_type": "code",
      "source": [
        "data = data_raw.drop(data_raw.columns[[0, 2, 3, 6, 9, 12, 13, 14, 16, 18, 19, 20, 22, 23]], axis=1)\n",
        "data.head()"
      ],
      "metadata": {
        "colab": {
          "base_uri": "https://localhost:8080/",
          "height": 206
        },
        "id": "ZejwLYI12196",
        "outputId": "5a79e597-7868-4e84-e9f9-194815e9638b"
      },
      "execution_count": 84,
      "outputs": [
        {
          "output_type": "execute_result",
          "data": {
            "text/plain": [
              "                              Name Score  \\\n",
              "0                     Cowboy Bebop  8.75   \n",
              "1  Cowboy Bebop: Tengoku no Tobira  8.38   \n",
              "2                           Trigun  8.22   \n",
              "3               Witch Hunter Robin  7.25   \n",
              "4                   Bouken Ou Beet  6.94   \n",
              "\n",
              "                                 Genres   Type Episodes    Premiered  \\\n",
              "0         Action, Award Winning, Sci-Fi     TV     26.0  spring 1998   \n",
              "1                        Action, Sci-Fi  Movie      1.0      UNKNOWN   \n",
              "2             Action, Adventure, Sci-Fi     TV     26.0  spring 1998   \n",
              "3  Action, Drama, Mystery, Supernatural     TV     26.0  summer 2002   \n",
              "4      Adventure, Fantasy, Supernatural     TV     52.0    fall 2004   \n",
              "\n",
              "            Status    Source                          Rating Scored By  \n",
              "0  Finished Airing  Original  R - 17+ (violence & profanity)  914193.0  \n",
              "1  Finished Airing  Original  R - 17+ (violence & profanity)  206248.0  \n",
              "2  Finished Airing     Manga       PG-13 - Teens 13 or older  356739.0  \n",
              "3  Finished Airing  Original       PG-13 - Teens 13 or older   42829.0  \n",
              "4  Finished Airing     Manga                   PG - Children    6413.0  "
            ],
            "text/html": [
              "\n",
              "  <div id=\"df-214d2ebb-72cd-48d2-81e2-93ae650dfa16\" class=\"colab-df-container\">\n",
              "    <div>\n",
              "<style scoped>\n",
              "    .dataframe tbody tr th:only-of-type {\n",
              "        vertical-align: middle;\n",
              "    }\n",
              "\n",
              "    .dataframe tbody tr th {\n",
              "        vertical-align: top;\n",
              "    }\n",
              "\n",
              "    .dataframe thead th {\n",
              "        text-align: right;\n",
              "    }\n",
              "</style>\n",
              "<table border=\"1\" class=\"dataframe\">\n",
              "  <thead>\n",
              "    <tr style=\"text-align: right;\">\n",
              "      <th></th>\n",
              "      <th>Name</th>\n",
              "      <th>Score</th>\n",
              "      <th>Genres</th>\n",
              "      <th>Type</th>\n",
              "      <th>Episodes</th>\n",
              "      <th>Premiered</th>\n",
              "      <th>Status</th>\n",
              "      <th>Source</th>\n",
              "      <th>Rating</th>\n",
              "      <th>Scored By</th>\n",
              "    </tr>\n",
              "  </thead>\n",
              "  <tbody>\n",
              "    <tr>\n",
              "      <th>0</th>\n",
              "      <td>Cowboy Bebop</td>\n",
              "      <td>8.75</td>\n",
              "      <td>Action, Award Winning, Sci-Fi</td>\n",
              "      <td>TV</td>\n",
              "      <td>26.0</td>\n",
              "      <td>spring 1998</td>\n",
              "      <td>Finished Airing</td>\n",
              "      <td>Original</td>\n",
              "      <td>R - 17+ (violence &amp; profanity)</td>\n",
              "      <td>914193.0</td>\n",
              "    </tr>\n",
              "    <tr>\n",
              "      <th>1</th>\n",
              "      <td>Cowboy Bebop: Tengoku no Tobira</td>\n",
              "      <td>8.38</td>\n",
              "      <td>Action, Sci-Fi</td>\n",
              "      <td>Movie</td>\n",
              "      <td>1.0</td>\n",
              "      <td>UNKNOWN</td>\n",
              "      <td>Finished Airing</td>\n",
              "      <td>Original</td>\n",
              "      <td>R - 17+ (violence &amp; profanity)</td>\n",
              "      <td>206248.0</td>\n",
              "    </tr>\n",
              "    <tr>\n",
              "      <th>2</th>\n",
              "      <td>Trigun</td>\n",
              "      <td>8.22</td>\n",
              "      <td>Action, Adventure, Sci-Fi</td>\n",
              "      <td>TV</td>\n",
              "      <td>26.0</td>\n",
              "      <td>spring 1998</td>\n",
              "      <td>Finished Airing</td>\n",
              "      <td>Manga</td>\n",
              "      <td>PG-13 - Teens 13 or older</td>\n",
              "      <td>356739.0</td>\n",
              "    </tr>\n",
              "    <tr>\n",
              "      <th>3</th>\n",
              "      <td>Witch Hunter Robin</td>\n",
              "      <td>7.25</td>\n",
              "      <td>Action, Drama, Mystery, Supernatural</td>\n",
              "      <td>TV</td>\n",
              "      <td>26.0</td>\n",
              "      <td>summer 2002</td>\n",
              "      <td>Finished Airing</td>\n",
              "      <td>Original</td>\n",
              "      <td>PG-13 - Teens 13 or older</td>\n",
              "      <td>42829.0</td>\n",
              "    </tr>\n",
              "    <tr>\n",
              "      <th>4</th>\n",
              "      <td>Bouken Ou Beet</td>\n",
              "      <td>6.94</td>\n",
              "      <td>Adventure, Fantasy, Supernatural</td>\n",
              "      <td>TV</td>\n",
              "      <td>52.0</td>\n",
              "      <td>fall 2004</td>\n",
              "      <td>Finished Airing</td>\n",
              "      <td>Manga</td>\n",
              "      <td>PG - Children</td>\n",
              "      <td>6413.0</td>\n",
              "    </tr>\n",
              "  </tbody>\n",
              "</table>\n",
              "</div>\n",
              "    <div class=\"colab-df-buttons\">\n",
              "\n",
              "  <div class=\"colab-df-container\">\n",
              "    <button class=\"colab-df-convert\" onclick=\"convertToInteractive('df-214d2ebb-72cd-48d2-81e2-93ae650dfa16')\"\n",
              "            title=\"Convert this dataframe to an interactive table.\"\n",
              "            style=\"display:none;\">\n",
              "\n",
              "  <svg xmlns=\"http://www.w3.org/2000/svg\" height=\"24px\" viewBox=\"0 -960 960 960\">\n",
              "    <path d=\"M120-120v-720h720v720H120Zm60-500h600v-160H180v160Zm220 220h160v-160H400v160Zm0 220h160v-160H400v160ZM180-400h160v-160H180v160Zm440 0h160v-160H620v160ZM180-180h160v-160H180v160Zm440 0h160v-160H620v160Z\"/>\n",
              "  </svg>\n",
              "    </button>\n",
              "\n",
              "  <style>\n",
              "    .colab-df-container {\n",
              "      display:flex;\n",
              "      gap: 12px;\n",
              "    }\n",
              "\n",
              "    .colab-df-convert {\n",
              "      background-color: #E8F0FE;\n",
              "      border: none;\n",
              "      border-radius: 50%;\n",
              "      cursor: pointer;\n",
              "      display: none;\n",
              "      fill: #1967D2;\n",
              "      height: 32px;\n",
              "      padding: 0 0 0 0;\n",
              "      width: 32px;\n",
              "    }\n",
              "\n",
              "    .colab-df-convert:hover {\n",
              "      background-color: #E2EBFA;\n",
              "      box-shadow: 0px 1px 2px rgba(60, 64, 67, 0.3), 0px 1px 3px 1px rgba(60, 64, 67, 0.15);\n",
              "      fill: #174EA6;\n",
              "    }\n",
              "\n",
              "    .colab-df-buttons div {\n",
              "      margin-bottom: 4px;\n",
              "    }\n",
              "\n",
              "    [theme=dark] .colab-df-convert {\n",
              "      background-color: #3B4455;\n",
              "      fill: #D2E3FC;\n",
              "    }\n",
              "\n",
              "    [theme=dark] .colab-df-convert:hover {\n",
              "      background-color: #434B5C;\n",
              "      box-shadow: 0px 1px 3px 1px rgba(0, 0, 0, 0.15);\n",
              "      filter: drop-shadow(0px 1px 2px rgba(0, 0, 0, 0.3));\n",
              "      fill: #FFFFFF;\n",
              "    }\n",
              "  </style>\n",
              "\n",
              "    <script>\n",
              "      const buttonEl =\n",
              "        document.querySelector('#df-214d2ebb-72cd-48d2-81e2-93ae650dfa16 button.colab-df-convert');\n",
              "      buttonEl.style.display =\n",
              "        google.colab.kernel.accessAllowed ? 'block' : 'none';\n",
              "\n",
              "      async function convertToInteractive(key) {\n",
              "        const element = document.querySelector('#df-214d2ebb-72cd-48d2-81e2-93ae650dfa16');\n",
              "        const dataTable =\n",
              "          await google.colab.kernel.invokeFunction('convertToInteractive',\n",
              "                                                    [key], {});\n",
              "        if (!dataTable) return;\n",
              "\n",
              "        const docLinkHtml = 'Like what you see? Visit the ' +\n",
              "          '<a target=\"_blank\" href=https://colab.research.google.com/notebooks/data_table.ipynb>data table notebook</a>'\n",
              "          + ' to learn more about interactive tables.';\n",
              "        element.innerHTML = '';\n",
              "        dataTable['output_type'] = 'display_data';\n",
              "        await google.colab.output.renderOutput(dataTable, element);\n",
              "        const docLink = document.createElement('div');\n",
              "        docLink.innerHTML = docLinkHtml;\n",
              "        element.appendChild(docLink);\n",
              "      }\n",
              "    </script>\n",
              "  </div>\n",
              "\n",
              "\n",
              "<div id=\"df-e54fb5ef-9421-40d2-9f16-cba053e1e39f\">\n",
              "  <button class=\"colab-df-quickchart\" onclick=\"quickchart('df-e54fb5ef-9421-40d2-9f16-cba053e1e39f')\"\n",
              "            title=\"Suggest charts.\"\n",
              "            style=\"display:none;\">\n",
              "\n",
              "<svg xmlns=\"http://www.w3.org/2000/svg\" height=\"24px\"viewBox=\"0 0 24 24\"\n",
              "     width=\"24px\">\n",
              "    <g>\n",
              "        <path d=\"M19 3H5c-1.1 0-2 .9-2 2v14c0 1.1.9 2 2 2h14c1.1 0 2-.9 2-2V5c0-1.1-.9-2-2-2zM9 17H7v-7h2v7zm4 0h-2V7h2v10zm4 0h-2v-4h2v4z\"/>\n",
              "    </g>\n",
              "</svg>\n",
              "  </button>\n",
              "\n",
              "<style>\n",
              "  .colab-df-quickchart {\n",
              "      --bg-color: #E8F0FE;\n",
              "      --fill-color: #1967D2;\n",
              "      --hover-bg-color: #E2EBFA;\n",
              "      --hover-fill-color: #174EA6;\n",
              "      --disabled-fill-color: #AAA;\n",
              "      --disabled-bg-color: #DDD;\n",
              "  }\n",
              "\n",
              "  [theme=dark] .colab-df-quickchart {\n",
              "      --bg-color: #3B4455;\n",
              "      --fill-color: #D2E3FC;\n",
              "      --hover-bg-color: #434B5C;\n",
              "      --hover-fill-color: #FFFFFF;\n",
              "      --disabled-bg-color: #3B4455;\n",
              "      --disabled-fill-color: #666;\n",
              "  }\n",
              "\n",
              "  .colab-df-quickchart {\n",
              "    background-color: var(--bg-color);\n",
              "    border: none;\n",
              "    border-radius: 50%;\n",
              "    cursor: pointer;\n",
              "    display: none;\n",
              "    fill: var(--fill-color);\n",
              "    height: 32px;\n",
              "    padding: 0;\n",
              "    width: 32px;\n",
              "  }\n",
              "\n",
              "  .colab-df-quickchart:hover {\n",
              "    background-color: var(--hover-bg-color);\n",
              "    box-shadow: 0 1px 2px rgba(60, 64, 67, 0.3), 0 1px 3px 1px rgba(60, 64, 67, 0.15);\n",
              "    fill: var(--button-hover-fill-color);\n",
              "  }\n",
              "\n",
              "  .colab-df-quickchart-complete:disabled,\n",
              "  .colab-df-quickchart-complete:disabled:hover {\n",
              "    background-color: var(--disabled-bg-color);\n",
              "    fill: var(--disabled-fill-color);\n",
              "    box-shadow: none;\n",
              "  }\n",
              "\n",
              "  .colab-df-spinner {\n",
              "    border: 2px solid var(--fill-color);\n",
              "    border-color: transparent;\n",
              "    border-bottom-color: var(--fill-color);\n",
              "    animation:\n",
              "      spin 1s steps(1) infinite;\n",
              "  }\n",
              "\n",
              "  @keyframes spin {\n",
              "    0% {\n",
              "      border-color: transparent;\n",
              "      border-bottom-color: var(--fill-color);\n",
              "      border-left-color: var(--fill-color);\n",
              "    }\n",
              "    20% {\n",
              "      border-color: transparent;\n",
              "      border-left-color: var(--fill-color);\n",
              "      border-top-color: var(--fill-color);\n",
              "    }\n",
              "    30% {\n",
              "      border-color: transparent;\n",
              "      border-left-color: var(--fill-color);\n",
              "      border-top-color: var(--fill-color);\n",
              "      border-right-color: var(--fill-color);\n",
              "    }\n",
              "    40% {\n",
              "      border-color: transparent;\n",
              "      border-right-color: var(--fill-color);\n",
              "      border-top-color: var(--fill-color);\n",
              "    }\n",
              "    60% {\n",
              "      border-color: transparent;\n",
              "      border-right-color: var(--fill-color);\n",
              "    }\n",
              "    80% {\n",
              "      border-color: transparent;\n",
              "      border-right-color: var(--fill-color);\n",
              "      border-bottom-color: var(--fill-color);\n",
              "    }\n",
              "    90% {\n",
              "      border-color: transparent;\n",
              "      border-bottom-color: var(--fill-color);\n",
              "    }\n",
              "  }\n",
              "</style>\n",
              "\n",
              "  <script>\n",
              "    async function quickchart(key) {\n",
              "      const quickchartButtonEl =\n",
              "        document.querySelector('#' + key + ' button');\n",
              "      quickchartButtonEl.disabled = true;  // To prevent multiple clicks.\n",
              "      quickchartButtonEl.classList.add('colab-df-spinner');\n",
              "      try {\n",
              "        const charts = await google.colab.kernel.invokeFunction(\n",
              "            'suggestCharts', [key], {});\n",
              "      } catch (error) {\n",
              "        console.error('Error during call to suggestCharts:', error);\n",
              "      }\n",
              "      quickchartButtonEl.classList.remove('colab-df-spinner');\n",
              "      quickchartButtonEl.classList.add('colab-df-quickchart-complete');\n",
              "    }\n",
              "    (() => {\n",
              "      let quickchartButtonEl =\n",
              "        document.querySelector('#df-e54fb5ef-9421-40d2-9f16-cba053e1e39f button');\n",
              "      quickchartButtonEl.style.display =\n",
              "        google.colab.kernel.accessAllowed ? 'block' : 'none';\n",
              "    })();\n",
              "  </script>\n",
              "</div>\n",
              "    </div>\n",
              "  </div>\n"
            ]
          },
          "metadata": {},
          "execution_count": 84
        }
      ]
    },
    {
      "cell_type": "markdown",
      "source": [
        "#Удаление ненужных строк (фильтрация)"
      ],
      "metadata": {
        "id": "idVbZr7ryI7h"
      }
    },
    {
      "cell_type": "code",
      "source": [
        "data = data.loc[data['Episodes'] != '1.0']\n",
        "data = data.loc[data['Type'].isin(['ONA', 'TV', 'UNKNOWN'])]\n",
        "data = data.loc[data['Source'].isin(['Original', 'Manga' 'Light novel', '4-koma manga', 'Visual novel', 'Other', 'Novel', 'Game', 'Book', 'Web manga', 'Mixed media', 'Card game', 'Web novel', 'UNKNOWN'])]\n",
        "data = data.loc[data['Status'].isin(['Finished Airing','UNKNOWN'])]\n",
        "data = data.drop(data.columns[6], axis=1)"
      ],
      "metadata": {
        "id": "VdZq0f-TyO5t"
      },
      "execution_count": 85,
      "outputs": []
    },
    {
      "cell_type": "markdown",
      "source": [
        "#Преобразование типов и данных"
      ],
      "metadata": {
        "id": "jIpEYmGC4ahS"
      }
    },
    {
      "cell_type": "code",
      "source": [
        "# TODO разбиение\n",
        "#data['Genres']"
      ],
      "metadata": {
        "id": "CGdOb3RPIB-I"
      },
      "execution_count": null,
      "outputs": []
    },
    {
      "cell_type": "code",
      "source": [
        "# TODO разделить на группы\n",
        "#data['Episodes'] = data['Episodes'].astype('category')"
      ],
      "metadata": {
        "id": "McZ0jnD_Ijv5"
      },
      "execution_count": null,
      "outputs": []
    },
    {
      "cell_type": "code",
      "source": [
        "len = data.shape[0]\n",
        "for i in range(len):\n",
        "  cur = data.iat[i, 5]\n",
        "  if cur.startswith('spring'):\n",
        "    data.iat[i, 5] = 'spring'\n",
        "  elif cur.startswith('summer'):\n",
        "    data.iat[i, 5] = 'summer'\n",
        "  elif cur.startswith('fall'):\n",
        "    data.iat[i, 5] = 'fall'\n",
        "  elif cur.startswith('winter'):\n",
        "    data.iat[i, 5] = 'winter'\n",
        "data['Premiered'] = data['Premiered'].astype('category')\n"
      ],
      "metadata": {
        "id": "4vcB-Ep_JjHi"
      },
      "execution_count": 86,
      "outputs": []
    },
    {
      "cell_type": "code",
      "source": [
        "data['Type'] = data['Type'].astype('category')\n",
        "data['Source'] = data['Source'].astype('category')\n",
        "data['Rating'] = data['Rating'].astype('category')\n",
        "\n",
        "data = data.loc[data['Score'] != 'UNKNOWN']\n",
        "data['Score'] = data['Score'].astype('float')"
      ],
      "metadata": {
        "id": "16N3fIiW3152",
        "colab": {
          "base_uri": "https://localhost:8080/"
        },
        "outputId": "03c0d8ac-e6fe-41d0-e51e-bcacb49ae6cc"
      },
      "execution_count": 87,
      "outputs": [
        {
          "output_type": "stream",
          "name": "stderr",
          "text": [
            "<ipython-input-87-b13e78f8ae2b>:6: SettingWithCopyWarning: \n",
            "A value is trying to be set on a copy of a slice from a DataFrame.\n",
            "Try using .loc[row_indexer,col_indexer] = value instead\n",
            "\n",
            "See the caveats in the documentation: https://pandas.pydata.org/pandas-docs/stable/user_guide/indexing.html#returning-a-view-versus-a-copy\n",
            "  data['Score'] = data['Score'].astype('float')\n"
          ]
        }
      ]
    },
    {
      "cell_type": "markdown",
      "source": [
        "# Уникальные значения"
      ],
      "metadata": {
        "id": "_wITPdUeIHf8"
      }
    },
    {
      "cell_type": "code",
      "source": [
        "print(data['Genres'].unique())\n",
        "print(data['Type'].unique())\n",
        "print(data['Episodes'].unique())\n",
        "print(data['Premiered'].unique())\n",
        "print(data['Source'].unique())\n",
        "print(data['Rating'].unique())"
      ],
      "metadata": {
        "id": "CX39MCvBILJt"
      },
      "execution_count": null,
      "outputs": []
    },
    {
      "cell_type": "code",
      "source": [
        "data.shape"
      ],
      "metadata": {
        "id": "6sYY8yKbQiF0",
        "outputId": "d94f80f8-44bc-4b02-a4d8-90b380c8516a",
        "colab": {
          "base_uri": "https://localhost:8080/"
        }
      },
      "execution_count": 88,
      "outputs": [
        {
          "output_type": "execute_result",
          "data": {
            "text/plain": [
              "(2923, 9)"
            ]
          },
          "metadata": {},
          "execution_count": 88
        }
      ]
    },
    {
      "cell_type": "markdown",
      "source": [
        "# Калибровка Score"
      ],
      "metadata": {
        "id": "FvZ7cqzZBPQ5"
      }
    },
    {
      "cell_type": "code",
      "source": [
        "data_scored = data.loc[data['Scored By'] != 'UNKNOWN']\n",
        "data_scored = data_scored['Scored By'].astype('float')\n",
        "data_scored.quantile([0.005,.01,.05,.1,.5,.6,.7,.8,.9,.95,.99,.995])"
      ],
      "metadata": {
        "colab": {
          "base_uri": "https://localhost:8080/"
        },
        "id": "rGURvblW_A6I",
        "outputId": "b4699361-e4a6-4190-cace-daabec520b0e"
      },
      "execution_count": 89,
      "outputs": [
        {
          "output_type": "execute_result",
          "data": {
            "text/plain": [
              "0.005       113.00\n",
              "0.010       119.22\n",
              "0.050       162.10\n",
              "0.100       218.00\n",
              "0.500      3871.00\n",
              "0.600      7557.60\n",
              "0.700     14412.00\n",
              "0.800     31666.00\n",
              "0.900     73245.40\n",
              "0.950    144203.70\n",
              "0.990    538795.68\n",
              "0.995    907218.26\n",
              "Name: Scored By, dtype: float64"
            ]
          },
          "metadata": {},
          "execution_count": 89
        }
      ]
    },
    {
      "cell_type": "code",
      "source": [
        "data_scored.shape"
      ],
      "metadata": {
        "colab": {
          "base_uri": "https://localhost:8080/"
        },
        "id": "uNMfYMMoSjUV",
        "outputId": "564a196c-31be-487c-d29f-3c14477f2f4a"
      },
      "execution_count": 90,
      "outputs": [
        {
          "output_type": "execute_result",
          "data": {
            "text/plain": [
              "(2923,)"
            ]
          },
          "metadata": {},
          "execution_count": 90
        }
      ]
    },
    {
      "cell_type": "markdown",
      "source": [
        "# Борьба с выбросами"
      ],
      "metadata": {
        "id": "micfYwE0GzD6"
      }
    },
    {
      "cell_type": "markdown",
      "source": [
        "# Заполнение \\\\ удаление UNKNOWN (пропущенные значения)"
      ],
      "metadata": {
        "id": "tNWjVF3eGdBo"
      }
    },
    {
      "cell_type": "code",
      "source": [
        "print(data.loc[data['Genres'] == 'UNKNOWN'])\n",
        "print(data.loc[data['Premiered'] == 'UNKNOWN'])\n",
        "print(data.loc[data['Rating'] == 'UNKNOWN'])"
      ],
      "metadata": {
        "id": "fKl0I2X-DkTX"
      },
      "execution_count": null,
      "outputs": []
    },
    {
      "cell_type": "markdown",
      "source": [
        "# TODO\n",
        "## Разбить значения в Genres и remove dark side\n",
        "## Разделить Episodes по группам\n",
        "\\\n",
        "## Учитывать сезоны?\n",
        "## Провести калибровку Score с учетом Scored By\n",
        "\\\n",
        "## Борьба с выбросами\n",
        "## Заполнение \\\\ удаление UNKNOWN\n",
        "\n",
        "\n"
      ],
      "metadata": {
        "id": "VUcVKeJYDzxa"
      }
    }
  ]
}