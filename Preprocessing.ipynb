{
  "nbformat": 4,
  "nbformat_minor": 0,
  "metadata": {
    "colab": {
      "provenance": [],
      "authorship_tag": "ABX9TyM/UlGXXtJTJgdIhlaitCIp",
      "include_colab_link": true
    },
    "kernelspec": {
      "name": "python3",
      "display_name": "Python 3"
    },
    "language_info": {
      "name": "python"
    }
  },
  "cells": [
    {
      "cell_type": "markdown",
      "metadata": {
        "id": "view-in-github",
        "colab_type": "text"
      },
      "source": [
        "<a href=\"https://colab.research.google.com/github/KimNikita/machine-learning-practice/blob/main/Preprocessing.ipynb\" target=\"_parent\"><img src=\"https://colab.research.google.com/assets/colab-badge.svg\" alt=\"Open In Colab\"/></a>"
      ]
    },
    {
      "cell_type": "code",
      "execution_count": 93,
      "metadata": {
        "id": "77eIKh9QhonV"
      },
      "outputs": [],
      "source": [
        "import numpy as np\n",
        "import pandas as pd"
      ]
    },
    {
      "cell_type": "code",
      "source": [
        "url = \"https://raw.githubusercontent.com/KimNikita/machine-learning-practice/main/anime-dataset-2023.csv\"\n",
        "data_raw = pd.read_csv(url)"
      ],
      "metadata": {
        "id": "b8dVIKExh9oN"
      },
      "execution_count": 22,
      "outputs": []
    },
    {
      "cell_type": "code",
      "source": [
        "data_raw.shape"
      ],
      "metadata": {
        "id": "9OfKtA0znp_-"
      },
      "execution_count": null,
      "outputs": []
    },
    {
      "cell_type": "code",
      "source": [
        "data_raw.head()"
      ],
      "metadata": {
        "id": "5afcaMB_nuTA"
      },
      "execution_count": null,
      "outputs": []
    },
    {
      "cell_type": "markdown",
      "source": [
        "#Удаление ненужных столбцов"
      ],
      "metadata": {
        "id": "1_SpEaRD21WU"
      }
    },
    {
      "cell_type": "code",
      "source": [
        "data = data_raw.drop(data_raw.columns[[0, 2, 3, 6, 9, 12, 13, 14, 16, 18, 19, 20, 22, 23]], axis=1)\n",
        "data.head()"
      ],
      "metadata": {
        "id": "ZejwLYI12196"
      },
      "execution_count": null,
      "outputs": []
    },
    {
      "cell_type": "markdown",
      "source": [
        "#Удаление ненужных строк (фильтрация)"
      ],
      "metadata": {
        "id": "idVbZr7ryI7h"
      }
    },
    {
      "cell_type": "code",
      "source": [
        "# TODO оставить только 1 сезон если несколько\n",
        "#data.drop('Name', inplace=True, axis=1)\n",
        "\n",
        "data = data.loc[data['Score'] != 'UNKNOWN']\n",
        "\n",
        "data = data.loc[data['Genres'] != 'UNKNOWN']\n",
        "len = data.shape[0]\n",
        "cid = data.columns.get_loc('Genres')\n",
        "rows_to_drop=[]\n",
        "for i in range(len):\n",
        "  cur = data.iat[i, cid]\n",
        "  if cur.find('Hentai') != -1 or cur.find('Erotica') != -1:\n",
        "    rows_to_drop.append(i)\n",
        "data.reset_index(inplace=True)\n",
        "data.drop(rows_to_drop, inplace=True)\n",
        "data.drop('index', inplace=True, axis=1)\n",
        "\n",
        "data = data.loc[data['Episodes'] != '1.0']\n",
        "data = data.loc[data['Type'].isin(['ONA', 'TV', 'UNKNOWN'])]\n",
        "data = data.loc[data['Status'].isin(['Finished Airing','UNKNOWN'])]\n",
        "data = data.loc[data['Source'].isin(['Original', 'Manga' 'Light novel', '4-koma manga', 'Visual novel', 'Other', 'Novel', 'Game', 'Book', 'Web manga', 'Mixed media', 'Card game', 'Web novel'])]\n",
        "data = data.loc[data['Rating'] != 'UNKNOWN']\n",
        "data.drop('Status', inplace=True, axis=1)"
      ],
      "metadata": {
        "id": "VdZq0f-TyO5t"
      },
      "execution_count": 83,
      "outputs": []
    },
    {
      "cell_type": "markdown",
      "source": [
        "#Преобразование данных"
      ],
      "metadata": {
        "id": "jIpEYmGC4ahS"
      }
    },
    {
      "cell_type": "markdown",
      "source": [
        "## Столбец Genres"
      ],
      "metadata": {
        "id": "EUUz6GIL0NPw"
      }
    },
    {
      "cell_type": "code",
      "source": [
        "# TODO разбиение\\преобразование\n"
      ],
      "metadata": {
        "id": "CGdOb3RPIB-I"
      },
      "execution_count": 84,
      "outputs": []
    },
    {
      "cell_type": "markdown",
      "source": [
        "## Столбец Episodes"
      ],
      "metadata": {
        "id": "icrr-EA00QLr"
      }
    },
    {
      "cell_type": "code",
      "source": [
        "len = data.shape[0]\n",
        "cid = data.columns.get_loc('Episodes')\n",
        "for i in range(len):\n",
        "  cur = data.iat[i, cid]\n",
        "  if cur != 'UNKNOWN':\n",
        "    cur = float(cur)\n",
        "    if cur <= 18:\n",
        "      data.iat[i, cid] = 'half-season'\n",
        "    elif 18 < cur <= 36:\n",
        "      data.iat[i, cid] = 'season'\n",
        "    elif 36 < cur <= 60:\n",
        "      data.iat[i, cid] = 'double-season'\n",
        "    elif 60 < cur:\n",
        "      data.iat[i, cid] = 'no-season'"
      ],
      "metadata": {
        "id": "McZ0jnD_Ijv5"
      },
      "execution_count": 85,
      "outputs": []
    },
    {
      "cell_type": "markdown",
      "source": [
        "## Столбец Premiered"
      ],
      "metadata": {
        "id": "cNKEWrvU0ZUN"
      }
    },
    {
      "cell_type": "code",
      "source": [
        "len = data.shape[0]\n",
        "cid = data.columns.get_loc('Premiered')\n",
        "for i in range(len):\n",
        "  cur = data.iat[i, cid]\n",
        "  if cur.startswith('spring'):\n",
        "    data.iat[i, cid] = 'spring'\n",
        "  elif cur.startswith('summer'):\n",
        "    data.iat[i, cid] = 'summer'\n",
        "  elif cur.startswith('fall'):\n",
        "    data.iat[i, cid] = 'fall'\n",
        "  elif cur.startswith('winter'):\n",
        "    data.iat[i, cid] = 'winter'\n"
      ],
      "metadata": {
        "id": "4vcB-Ep_JjHi"
      },
      "execution_count": 86,
      "outputs": []
    },
    {
      "cell_type": "markdown",
      "source": [
        "## Калибровка Score с учетом Score By\n",
        "\n"
      ],
      "metadata": {
        "id": "FvZ7cqzZBPQ5"
      }
    },
    {
      "cell_type": "code",
      "source": [
        "data_scored = data['Scored By'].astype('float')\n",
        "data_scored.quantile([0.005,.01,.05,.1,.15,.2,.25,.3,.35,.4,.45,.5,.55,.6,.65,.7,.75,.8,.85,.9,.95,.99,.995])"
      ],
      "metadata": {
        "id": "rGURvblW_A6I"
      },
      "execution_count": null,
      "outputs": []
    },
    {
      "cell_type": "code",
      "source": [
        "# TODO калибровка\n",
        "#data.drop('Scored By', inplace=True, axis=1)"
      ],
      "metadata": {
        "id": "POm7kogw1AAu"
      },
      "execution_count": null,
      "outputs": []
    },
    {
      "cell_type": "markdown",
      "source": [
        "# Debug"
      ],
      "metadata": {
        "id": "_wITPdUeIHf8"
      }
    },
    {
      "cell_type": "code",
      "source": [
        "print(data['Genres'].unique())"
      ],
      "metadata": {
        "id": "CX39MCvBILJt"
      },
      "execution_count": null,
      "outputs": []
    },
    {
      "cell_type": "code",
      "source": [
        "data.shape"
      ],
      "metadata": {
        "id": "6sYY8yKbQiF0"
      },
      "execution_count": null,
      "outputs": []
    },
    {
      "cell_type": "code",
      "source": [
        "data.head()"
      ],
      "metadata": {
        "id": "yAW8e5thnQlF"
      },
      "execution_count": null,
      "outputs": []
    },
    {
      "cell_type": "markdown",
      "source": [
        "# Борьба с выбросами"
      ],
      "metadata": {
        "id": "micfYwE0GzD6"
      }
    },
    {
      "cell_type": "code",
      "source": [
        "# TODO Genres\n",
        "\n",
        "print(data['Type'].value_counts())\n",
        "print(data['Episodes'].value_counts())\n",
        "print(data['Premiered'].value_counts())\n",
        "print(data['Source'].value_counts())\n",
        "print(data['Rating'].value_counts())"
      ],
      "metadata": {
        "id": "boQCkd-arCmO"
      },
      "execution_count": null,
      "outputs": []
    },
    {
      "cell_type": "code",
      "source": [
        "data=data.loc[data['Episodes'] != 'no-season']\n",
        "data=data.loc[data['Source'].isin(['Original', 'Game', 'Novel', 'Web manga', 'Other', '4-koma manga', 'Visual novel'])]\n",
        "data=data.loc[data['Rating'] != 'R+ - Mild Nudity']\n",
        "data.shape"
      ],
      "metadata": {
        "id": "qYyVABlZx4ar"
      },
      "execution_count": null,
      "outputs": []
    },
    {
      "cell_type": "markdown",
      "source": [
        "# Заполнение UNKNOWN (пропущенные значения)"
      ],
      "metadata": {
        "id": "tNWjVF3eGdBo"
      }
    },
    {
      "cell_type": "code",
      "source": [
        "print(data.loc[data['Premiered'] == 'UNKNOWN'])"
      ],
      "metadata": {
        "id": "fKl0I2X-DkTX"
      },
      "execution_count": null,
      "outputs": []
    },
    {
      "cell_type": "code",
      "source": [
        "# TODO пропорциональное случайное заполнение?"
      ],
      "metadata": {
        "id": "Jii5R_4Y1lCx"
      },
      "execution_count": null,
      "outputs": []
    },
    {
      "cell_type": "markdown",
      "source": [
        "# Преобразование типов"
      ],
      "metadata": {
        "id": "mfAnpcj0lxZh"
      }
    },
    {
      "cell_type": "code",
      "source": [
        "data['Score'] = data['Score'].astype('float')\n",
        "# TODO Genres\n",
        "\n",
        "data['Type'] = data['Type'].astype('category')\n",
        "data['Episodes'] = data['Episodes'].astype('category')\n",
        "data['Premiered'] = data['Premiered'].astype('category')\n",
        "data['Source'] = data['Source'].astype('category')\n",
        "data['Rating'] = data['Rating'].astype('category')"
      ],
      "metadata": {
        "id": "UEXwGp8Gl0OU"
      },
      "execution_count": 87,
      "outputs": []
    },
    {
      "cell_type": "markdown",
      "source": [
        "# TODO\n",
        "## Учитывать сезоны (поиск по префиксам)\n",
        "## Разбить значения в Genres (вопрос преподу)\n",
        "## Провести калибровку Score с учетом Scored By (гугл)\n",
        "## Борьба с выбросами (лекция)\n",
        "## Заполнение UNKNOWN (вопрос преподу)\n"
      ],
      "metadata": {
        "id": "VUcVKeJYDzxa"
      }
    }
  ]
}