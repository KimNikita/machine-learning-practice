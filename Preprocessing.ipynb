{
  "nbformat": 4,
  "nbformat_minor": 0,
  "metadata": {
    "colab": {
      "provenance": [],
      "authorship_tag": "ABX9TyMhnb5Fn2iuGnJ2wFDSGlyS",
      "include_colab_link": true
    },
    "kernelspec": {
      "name": "python3",
      "display_name": "Python 3"
    },
    "language_info": {
      "name": "python"
    }
  },
  "cells": [
    {
      "cell_type": "markdown",
      "metadata": {
        "id": "view-in-github",
        "colab_type": "text"
      },
      "source": [
        "<a href=\"https://colab.research.google.com/github/KimNikita/machine-learning-practice/blob/main/Preprocessing.ipynb\" target=\"_parent\"><img src=\"https://colab.research.google.com/assets/colab-badge.svg\" alt=\"Open In Colab\"/></a>"
      ]
    },
    {
      "cell_type": "code",
      "execution_count": 1,
      "metadata": {
        "id": "77eIKh9QhonV"
      },
      "outputs": [],
      "source": [
        "import numpy as np\n",
        "import pandas as pd"
      ]
    },
    {
      "cell_type": "markdown",
      "source": [
        "# Постановка задачи"
      ],
      "metadata": {
        "id": "vX_D606Yd8IK"
      }
    },
    {
      "cell_type": "markdown",
      "source": [
        "## Задача восстановления регрессии: предсказание ожидаемого конечного пользовательского рейтинга аниме по его характеристикам\n",
        "## Область применения: упрощение выбора аниме для просмотра из числа вышедших в текущем сезоне года. Проблема состоит в том, что процент действительно \"хороших\" аниме среди вышедших довольно низок. При этом, чтобы отделить \"хорошие\" от \"плохих\", необходимо вручную просмотреть как минимум половину серий, что в худшем случае обернется потерей времени и настроения. А ориентироваться на пользовательский рейтинг первые полгода - бессмысленно ввиду разных причин (конкретика опускается).\n"
      ],
      "metadata": {
        "id": "CVanCPyt9UVm"
      }
    },
    {
      "cell_type": "markdown",
      "source": [
        "# Чтение данных"
      ],
      "metadata": {
        "id": "8m6Zqy-Md_m1"
      }
    },
    {
      "cell_type": "code",
      "source": [
        "url = \"https://raw.githubusercontent.com/KimNikita/machine-learning-practice/main/anime-dataset-2023.csv\"\n",
        "data_raw = pd.read_csv(url)"
      ],
      "metadata": {
        "id": "b8dVIKExh9oN"
      },
      "execution_count": 2,
      "outputs": []
    },
    {
      "cell_type": "code",
      "source": [
        "data_raw.shape"
      ],
      "metadata": {
        "id": "9OfKtA0znp_-",
        "outputId": "f78f49cb-bfe6-486c-b9cb-3a821ceaf054",
        "colab": {
          "base_uri": "https://localhost:8080/"
        }
      },
      "execution_count": 3,
      "outputs": [
        {
          "output_type": "execute_result",
          "data": {
            "text/plain": [
              "(24905, 24)"
            ]
          },
          "metadata": {},
          "execution_count": 3
        }
      ]
    },
    {
      "cell_type": "code",
      "source": [
        "data_raw.head()"
      ],
      "metadata": {
        "id": "5afcaMB_nuTA",
        "outputId": "f43000e7-a642-4f37-97d4-0af425903bd8",
        "colab": {
          "base_uri": "https://localhost:8080/",
          "height": 724
        }
      },
      "execution_count": null,
      "outputs": [
        {
          "output_type": "execute_result",
          "data": {
            "text/plain": [
              "   anime_id                             Name             English name  \\\n",
              "0         1                     Cowboy Bebop             Cowboy Bebop   \n",
              "1         5  Cowboy Bebop: Tengoku no Tobira  Cowboy Bebop: The Movie   \n",
              "2         6                           Trigun                   Trigun   \n",
              "3         7               Witch Hunter Robin       Witch Hunter Robin   \n",
              "4         8                   Bouken Ou Beet   Beet the Vandel Buster   \n",
              "\n",
              "                         Other name Score  \\\n",
              "0                         カウボーイビバップ  8.75   \n",
              "1                    カウボーイビバップ 天国の扉  8.38   \n",
              "2                             トライガン  8.22   \n",
              "3  Witch Hunter ROBIN (ウイッチハンターロビン)  7.25   \n",
              "4                            冒険王ビィト  6.94   \n",
              "\n",
              "                                 Genres  \\\n",
              "0         Action, Award Winning, Sci-Fi   \n",
              "1                        Action, Sci-Fi   \n",
              "2             Action, Adventure, Sci-Fi   \n",
              "3  Action, Drama, Mystery, Supernatural   \n",
              "4      Adventure, Fantasy, Supernatural   \n",
              "\n",
              "                                            Synopsis   Type Episodes  \\\n",
              "0  Crime is timeless. By the year 2071, humanity ...     TV     26.0   \n",
              "1  Another day, another bounty—such is the life o...  Movie      1.0   \n",
              "2  Vash the Stampede is the man with a $$60,000,0...     TV     26.0   \n",
              "3  Robin Sena is a powerful craft user drafted in...     TV     26.0   \n",
              "4  It is the dark century and the people are suff...     TV     52.0   \n",
              "\n",
              "                          Aired  ...         Studios    Source       Duration  \\\n",
              "0   Apr 3, 1998 to Apr 24, 1999  ...         Sunrise  Original  24 min per ep   \n",
              "1                   Sep 1, 2001  ...           Bones  Original    1 hr 55 min   \n",
              "2   Apr 1, 1998 to Sep 30, 1998  ...        Madhouse     Manga  24 min per ep   \n",
              "3   Jul 3, 2002 to Dec 25, 2002  ...         Sunrise  Original  25 min per ep   \n",
              "4  Sep 30, 2004 to Sep 29, 2005  ...  Toei Animation     Manga  23 min per ep   \n",
              "\n",
              "                           Rating    Rank Popularity Favorites Scored By  \\\n",
              "0  R - 17+ (violence & profanity)    41.0         43     78525  914193.0   \n",
              "1  R - 17+ (violence & profanity)   189.0        602      1448  206248.0   \n",
              "2       PG-13 - Teens 13 or older   328.0        246     15035  356739.0   \n",
              "3       PG-13 - Teens 13 or older  2764.0       1795       613   42829.0   \n",
              "4                   PG - Children  4240.0       5126        14    6413.0   \n",
              "\n",
              "   Members                                          Image URL  \n",
              "0  1771505  https://cdn.myanimelist.net/images/anime/4/196...  \n",
              "1   360978  https://cdn.myanimelist.net/images/anime/1439/...  \n",
              "2   727252  https://cdn.myanimelist.net/images/anime/7/203...  \n",
              "3   111931  https://cdn.myanimelist.net/images/anime/10/19...  \n",
              "4    15001  https://cdn.myanimelist.net/images/anime/7/215...  \n",
              "\n",
              "[5 rows x 24 columns]"
            ],
            "text/html": [
              "\n",
              "  <div id=\"df-a3b5ed15-449a-4964-8a31-0a708938f839\" class=\"colab-df-container\">\n",
              "    <div>\n",
              "<style scoped>\n",
              "    .dataframe tbody tr th:only-of-type {\n",
              "        vertical-align: middle;\n",
              "    }\n",
              "\n",
              "    .dataframe tbody tr th {\n",
              "        vertical-align: top;\n",
              "    }\n",
              "\n",
              "    .dataframe thead th {\n",
              "        text-align: right;\n",
              "    }\n",
              "</style>\n",
              "<table border=\"1\" class=\"dataframe\">\n",
              "  <thead>\n",
              "    <tr style=\"text-align: right;\">\n",
              "      <th></th>\n",
              "      <th>anime_id</th>\n",
              "      <th>Name</th>\n",
              "      <th>English name</th>\n",
              "      <th>Other name</th>\n",
              "      <th>Score</th>\n",
              "      <th>Genres</th>\n",
              "      <th>Synopsis</th>\n",
              "      <th>Type</th>\n",
              "      <th>Episodes</th>\n",
              "      <th>Aired</th>\n",
              "      <th>...</th>\n",
              "      <th>Studios</th>\n",
              "      <th>Source</th>\n",
              "      <th>Duration</th>\n",
              "      <th>Rating</th>\n",
              "      <th>Rank</th>\n",
              "      <th>Popularity</th>\n",
              "      <th>Favorites</th>\n",
              "      <th>Scored By</th>\n",
              "      <th>Members</th>\n",
              "      <th>Image URL</th>\n",
              "    </tr>\n",
              "  </thead>\n",
              "  <tbody>\n",
              "    <tr>\n",
              "      <th>0</th>\n",
              "      <td>1</td>\n",
              "      <td>Cowboy Bebop</td>\n",
              "      <td>Cowboy Bebop</td>\n",
              "      <td>カウボーイビバップ</td>\n",
              "      <td>8.75</td>\n",
              "      <td>Action, Award Winning, Sci-Fi</td>\n",
              "      <td>Crime is timeless. By the year 2071, humanity ...</td>\n",
              "      <td>TV</td>\n",
              "      <td>26.0</td>\n",
              "      <td>Apr 3, 1998 to Apr 24, 1999</td>\n",
              "      <td>...</td>\n",
              "      <td>Sunrise</td>\n",
              "      <td>Original</td>\n",
              "      <td>24 min per ep</td>\n",
              "      <td>R - 17+ (violence &amp; profanity)</td>\n",
              "      <td>41.0</td>\n",
              "      <td>43</td>\n",
              "      <td>78525</td>\n",
              "      <td>914193.0</td>\n",
              "      <td>1771505</td>\n",
              "      <td>https://cdn.myanimelist.net/images/anime/4/196...</td>\n",
              "    </tr>\n",
              "    <tr>\n",
              "      <th>1</th>\n",
              "      <td>5</td>\n",
              "      <td>Cowboy Bebop: Tengoku no Tobira</td>\n",
              "      <td>Cowboy Bebop: The Movie</td>\n",
              "      <td>カウボーイビバップ 天国の扉</td>\n",
              "      <td>8.38</td>\n",
              "      <td>Action, Sci-Fi</td>\n",
              "      <td>Another day, another bounty—such is the life o...</td>\n",
              "      <td>Movie</td>\n",
              "      <td>1.0</td>\n",
              "      <td>Sep 1, 2001</td>\n",
              "      <td>...</td>\n",
              "      <td>Bones</td>\n",
              "      <td>Original</td>\n",
              "      <td>1 hr 55 min</td>\n",
              "      <td>R - 17+ (violence &amp; profanity)</td>\n",
              "      <td>189.0</td>\n",
              "      <td>602</td>\n",
              "      <td>1448</td>\n",
              "      <td>206248.0</td>\n",
              "      <td>360978</td>\n",
              "      <td>https://cdn.myanimelist.net/images/anime/1439/...</td>\n",
              "    </tr>\n",
              "    <tr>\n",
              "      <th>2</th>\n",
              "      <td>6</td>\n",
              "      <td>Trigun</td>\n",
              "      <td>Trigun</td>\n",
              "      <td>トライガン</td>\n",
              "      <td>8.22</td>\n",
              "      <td>Action, Adventure, Sci-Fi</td>\n",
              "      <td>Vash the Stampede is the man with a $$60,000,0...</td>\n",
              "      <td>TV</td>\n",
              "      <td>26.0</td>\n",
              "      <td>Apr 1, 1998 to Sep 30, 1998</td>\n",
              "      <td>...</td>\n",
              "      <td>Madhouse</td>\n",
              "      <td>Manga</td>\n",
              "      <td>24 min per ep</td>\n",
              "      <td>PG-13 - Teens 13 or older</td>\n",
              "      <td>328.0</td>\n",
              "      <td>246</td>\n",
              "      <td>15035</td>\n",
              "      <td>356739.0</td>\n",
              "      <td>727252</td>\n",
              "      <td>https://cdn.myanimelist.net/images/anime/7/203...</td>\n",
              "    </tr>\n",
              "    <tr>\n",
              "      <th>3</th>\n",
              "      <td>7</td>\n",
              "      <td>Witch Hunter Robin</td>\n",
              "      <td>Witch Hunter Robin</td>\n",
              "      <td>Witch Hunter ROBIN (ウイッチハンターロビン)</td>\n",
              "      <td>7.25</td>\n",
              "      <td>Action, Drama, Mystery, Supernatural</td>\n",
              "      <td>Robin Sena is a powerful craft user drafted in...</td>\n",
              "      <td>TV</td>\n",
              "      <td>26.0</td>\n",
              "      <td>Jul 3, 2002 to Dec 25, 2002</td>\n",
              "      <td>...</td>\n",
              "      <td>Sunrise</td>\n",
              "      <td>Original</td>\n",
              "      <td>25 min per ep</td>\n",
              "      <td>PG-13 - Teens 13 or older</td>\n",
              "      <td>2764.0</td>\n",
              "      <td>1795</td>\n",
              "      <td>613</td>\n",
              "      <td>42829.0</td>\n",
              "      <td>111931</td>\n",
              "      <td>https://cdn.myanimelist.net/images/anime/10/19...</td>\n",
              "    </tr>\n",
              "    <tr>\n",
              "      <th>4</th>\n",
              "      <td>8</td>\n",
              "      <td>Bouken Ou Beet</td>\n",
              "      <td>Beet the Vandel Buster</td>\n",
              "      <td>冒険王ビィト</td>\n",
              "      <td>6.94</td>\n",
              "      <td>Adventure, Fantasy, Supernatural</td>\n",
              "      <td>It is the dark century and the people are suff...</td>\n",
              "      <td>TV</td>\n",
              "      <td>52.0</td>\n",
              "      <td>Sep 30, 2004 to Sep 29, 2005</td>\n",
              "      <td>...</td>\n",
              "      <td>Toei Animation</td>\n",
              "      <td>Manga</td>\n",
              "      <td>23 min per ep</td>\n",
              "      <td>PG - Children</td>\n",
              "      <td>4240.0</td>\n",
              "      <td>5126</td>\n",
              "      <td>14</td>\n",
              "      <td>6413.0</td>\n",
              "      <td>15001</td>\n",
              "      <td>https://cdn.myanimelist.net/images/anime/7/215...</td>\n",
              "    </tr>\n",
              "  </tbody>\n",
              "</table>\n",
              "<p>5 rows × 24 columns</p>\n",
              "</div>\n",
              "    <div class=\"colab-df-buttons\">\n",
              "\n",
              "  <div class=\"colab-df-container\">\n",
              "    <button class=\"colab-df-convert\" onclick=\"convertToInteractive('df-a3b5ed15-449a-4964-8a31-0a708938f839')\"\n",
              "            title=\"Convert this dataframe to an interactive table.\"\n",
              "            style=\"display:none;\">\n",
              "\n",
              "  <svg xmlns=\"http://www.w3.org/2000/svg\" height=\"24px\" viewBox=\"0 -960 960 960\">\n",
              "    <path d=\"M120-120v-720h720v720H120Zm60-500h600v-160H180v160Zm220 220h160v-160H400v160Zm0 220h160v-160H400v160ZM180-400h160v-160H180v160Zm440 0h160v-160H620v160ZM180-180h160v-160H180v160Zm440 0h160v-160H620v160Z\"/>\n",
              "  </svg>\n",
              "    </button>\n",
              "\n",
              "  <style>\n",
              "    .colab-df-container {\n",
              "      display:flex;\n",
              "      gap: 12px;\n",
              "    }\n",
              "\n",
              "    .colab-df-convert {\n",
              "      background-color: #E8F0FE;\n",
              "      border: none;\n",
              "      border-radius: 50%;\n",
              "      cursor: pointer;\n",
              "      display: none;\n",
              "      fill: #1967D2;\n",
              "      height: 32px;\n",
              "      padding: 0 0 0 0;\n",
              "      width: 32px;\n",
              "    }\n",
              "\n",
              "    .colab-df-convert:hover {\n",
              "      background-color: #E2EBFA;\n",
              "      box-shadow: 0px 1px 2px rgba(60, 64, 67, 0.3), 0px 1px 3px 1px rgba(60, 64, 67, 0.15);\n",
              "      fill: #174EA6;\n",
              "    }\n",
              "\n",
              "    .colab-df-buttons div {\n",
              "      margin-bottom: 4px;\n",
              "    }\n",
              "\n",
              "    [theme=dark] .colab-df-convert {\n",
              "      background-color: #3B4455;\n",
              "      fill: #D2E3FC;\n",
              "    }\n",
              "\n",
              "    [theme=dark] .colab-df-convert:hover {\n",
              "      background-color: #434B5C;\n",
              "      box-shadow: 0px 1px 3px 1px rgba(0, 0, 0, 0.15);\n",
              "      filter: drop-shadow(0px 1px 2px rgba(0, 0, 0, 0.3));\n",
              "      fill: #FFFFFF;\n",
              "    }\n",
              "  </style>\n",
              "\n",
              "    <script>\n",
              "      const buttonEl =\n",
              "        document.querySelector('#df-a3b5ed15-449a-4964-8a31-0a708938f839 button.colab-df-convert');\n",
              "      buttonEl.style.display =\n",
              "        google.colab.kernel.accessAllowed ? 'block' : 'none';\n",
              "\n",
              "      async function convertToInteractive(key) {\n",
              "        const element = document.querySelector('#df-a3b5ed15-449a-4964-8a31-0a708938f839');\n",
              "        const dataTable =\n",
              "          await google.colab.kernel.invokeFunction('convertToInteractive',\n",
              "                                                    [key], {});\n",
              "        if (!dataTable) return;\n",
              "\n",
              "        const docLinkHtml = 'Like what you see? Visit the ' +\n",
              "          '<a target=\"_blank\" href=https://colab.research.google.com/notebooks/data_table.ipynb>data table notebook</a>'\n",
              "          + ' to learn more about interactive tables.';\n",
              "        element.innerHTML = '';\n",
              "        dataTable['output_type'] = 'display_data';\n",
              "        await google.colab.output.renderOutput(dataTable, element);\n",
              "        const docLink = document.createElement('div');\n",
              "        docLink.innerHTML = docLinkHtml;\n",
              "        element.appendChild(docLink);\n",
              "      }\n",
              "    </script>\n",
              "  </div>\n",
              "\n",
              "\n",
              "<div id=\"df-40ee842c-393c-422b-9def-f47c1f4ef00e\">\n",
              "  <button class=\"colab-df-quickchart\" onclick=\"quickchart('df-40ee842c-393c-422b-9def-f47c1f4ef00e')\"\n",
              "            title=\"Suggest charts.\"\n",
              "            style=\"display:none;\">\n",
              "\n",
              "<svg xmlns=\"http://www.w3.org/2000/svg\" height=\"24px\"viewBox=\"0 0 24 24\"\n",
              "     width=\"24px\">\n",
              "    <g>\n",
              "        <path d=\"M19 3H5c-1.1 0-2 .9-2 2v14c0 1.1.9 2 2 2h14c1.1 0 2-.9 2-2V5c0-1.1-.9-2-2-2zM9 17H7v-7h2v7zm4 0h-2V7h2v10zm4 0h-2v-4h2v4z\"/>\n",
              "    </g>\n",
              "</svg>\n",
              "  </button>\n",
              "\n",
              "<style>\n",
              "  .colab-df-quickchart {\n",
              "      --bg-color: #E8F0FE;\n",
              "      --fill-color: #1967D2;\n",
              "      --hover-bg-color: #E2EBFA;\n",
              "      --hover-fill-color: #174EA6;\n",
              "      --disabled-fill-color: #AAA;\n",
              "      --disabled-bg-color: #DDD;\n",
              "  }\n",
              "\n",
              "  [theme=dark] .colab-df-quickchart {\n",
              "      --bg-color: #3B4455;\n",
              "      --fill-color: #D2E3FC;\n",
              "      --hover-bg-color: #434B5C;\n",
              "      --hover-fill-color: #FFFFFF;\n",
              "      --disabled-bg-color: #3B4455;\n",
              "      --disabled-fill-color: #666;\n",
              "  }\n",
              "\n",
              "  .colab-df-quickchart {\n",
              "    background-color: var(--bg-color);\n",
              "    border: none;\n",
              "    border-radius: 50%;\n",
              "    cursor: pointer;\n",
              "    display: none;\n",
              "    fill: var(--fill-color);\n",
              "    height: 32px;\n",
              "    padding: 0;\n",
              "    width: 32px;\n",
              "  }\n",
              "\n",
              "  .colab-df-quickchart:hover {\n",
              "    background-color: var(--hover-bg-color);\n",
              "    box-shadow: 0 1px 2px rgba(60, 64, 67, 0.3), 0 1px 3px 1px rgba(60, 64, 67, 0.15);\n",
              "    fill: var(--button-hover-fill-color);\n",
              "  }\n",
              "\n",
              "  .colab-df-quickchart-complete:disabled,\n",
              "  .colab-df-quickchart-complete:disabled:hover {\n",
              "    background-color: var(--disabled-bg-color);\n",
              "    fill: var(--disabled-fill-color);\n",
              "    box-shadow: none;\n",
              "  }\n",
              "\n",
              "  .colab-df-spinner {\n",
              "    border: 2px solid var(--fill-color);\n",
              "    border-color: transparent;\n",
              "    border-bottom-color: var(--fill-color);\n",
              "    animation:\n",
              "      spin 1s steps(1) infinite;\n",
              "  }\n",
              "\n",
              "  @keyframes spin {\n",
              "    0% {\n",
              "      border-color: transparent;\n",
              "      border-bottom-color: var(--fill-color);\n",
              "      border-left-color: var(--fill-color);\n",
              "    }\n",
              "    20% {\n",
              "      border-color: transparent;\n",
              "      border-left-color: var(--fill-color);\n",
              "      border-top-color: var(--fill-color);\n",
              "    }\n",
              "    30% {\n",
              "      border-color: transparent;\n",
              "      border-left-color: var(--fill-color);\n",
              "      border-top-color: var(--fill-color);\n",
              "      border-right-color: var(--fill-color);\n",
              "    }\n",
              "    40% {\n",
              "      border-color: transparent;\n",
              "      border-right-color: var(--fill-color);\n",
              "      border-top-color: var(--fill-color);\n",
              "    }\n",
              "    60% {\n",
              "      border-color: transparent;\n",
              "      border-right-color: var(--fill-color);\n",
              "    }\n",
              "    80% {\n",
              "      border-color: transparent;\n",
              "      border-right-color: var(--fill-color);\n",
              "      border-bottom-color: var(--fill-color);\n",
              "    }\n",
              "    90% {\n",
              "      border-color: transparent;\n",
              "      border-bottom-color: var(--fill-color);\n",
              "    }\n",
              "  }\n",
              "</style>\n",
              "\n",
              "  <script>\n",
              "    async function quickchart(key) {\n",
              "      const quickchartButtonEl =\n",
              "        document.querySelector('#' + key + ' button');\n",
              "      quickchartButtonEl.disabled = true;  // To prevent multiple clicks.\n",
              "      quickchartButtonEl.classList.add('colab-df-spinner');\n",
              "      try {\n",
              "        const charts = await google.colab.kernel.invokeFunction(\n",
              "            'suggestCharts', [key], {});\n",
              "      } catch (error) {\n",
              "        console.error('Error during call to suggestCharts:', error);\n",
              "      }\n",
              "      quickchartButtonEl.classList.remove('colab-df-spinner');\n",
              "      quickchartButtonEl.classList.add('colab-df-quickchart-complete');\n",
              "    }\n",
              "    (() => {\n",
              "      let quickchartButtonEl =\n",
              "        document.querySelector('#df-40ee842c-393c-422b-9def-f47c1f4ef00e button');\n",
              "      quickchartButtonEl.style.display =\n",
              "        google.colab.kernel.accessAllowed ? 'block' : 'none';\n",
              "    })();\n",
              "  </script>\n",
              "</div>\n",
              "    </div>\n",
              "  </div>\n"
            ]
          },
          "metadata": {},
          "execution_count": 99
        }
      ]
    },
    {
      "cell_type": "markdown",
      "source": [
        "#Удаление ненужных столбцов"
      ],
      "metadata": {
        "id": "1_SpEaRD21WU"
      }
    },
    {
      "cell_type": "code",
      "source": [
        "data = data_raw.drop(data_raw.columns[[0, 1, 3, 6, 9, 11, 12, 13, 14, 16, 18, 19, 20, 21, 22, 23]], axis=1)\n",
        "data.head()"
      ],
      "metadata": {
        "id": "ZejwLYI12196",
        "outputId": "9548a981-a6ff-4be0-b10e-0675079ba3bf",
        "colab": {
          "base_uri": "https://localhost:8080/",
          "height": 206
        }
      },
      "execution_count": 100,
      "outputs": [
        {
          "output_type": "execute_result",
          "data": {
            "text/plain": [
              "              English name Score                                Genres   Type  \\\n",
              "0             Cowboy Bebop  8.75         Action, Award Winning, Sci-Fi     TV   \n",
              "1  Cowboy Bebop: The Movie  8.38                        Action, Sci-Fi  Movie   \n",
              "2                   Trigun  8.22             Action, Adventure, Sci-Fi     TV   \n",
              "3       Witch Hunter Robin  7.25  Action, Drama, Mystery, Supernatural     TV   \n",
              "4   Beet the Vandel Buster  6.94      Adventure, Fantasy, Supernatural     TV   \n",
              "\n",
              "  Episodes    Premiered    Source                          Rating  \n",
              "0     26.0  spring 1998  Original  R - 17+ (violence & profanity)  \n",
              "1      1.0      UNKNOWN  Original  R - 17+ (violence & profanity)  \n",
              "2     26.0  spring 1998     Manga       PG-13 - Teens 13 or older  \n",
              "3     26.0  summer 2002  Original       PG-13 - Teens 13 or older  \n",
              "4     52.0    fall 2004     Manga                   PG - Children  "
            ],
            "text/html": [
              "\n",
              "  <div id=\"df-d6f78206-734a-4d67-ada3-598a25f00ec7\" class=\"colab-df-container\">\n",
              "    <div>\n",
              "<style scoped>\n",
              "    .dataframe tbody tr th:only-of-type {\n",
              "        vertical-align: middle;\n",
              "    }\n",
              "\n",
              "    .dataframe tbody tr th {\n",
              "        vertical-align: top;\n",
              "    }\n",
              "\n",
              "    .dataframe thead th {\n",
              "        text-align: right;\n",
              "    }\n",
              "</style>\n",
              "<table border=\"1\" class=\"dataframe\">\n",
              "  <thead>\n",
              "    <tr style=\"text-align: right;\">\n",
              "      <th></th>\n",
              "      <th>English name</th>\n",
              "      <th>Score</th>\n",
              "      <th>Genres</th>\n",
              "      <th>Type</th>\n",
              "      <th>Episodes</th>\n",
              "      <th>Premiered</th>\n",
              "      <th>Source</th>\n",
              "      <th>Rating</th>\n",
              "    </tr>\n",
              "  </thead>\n",
              "  <tbody>\n",
              "    <tr>\n",
              "      <th>0</th>\n",
              "      <td>Cowboy Bebop</td>\n",
              "      <td>8.75</td>\n",
              "      <td>Action, Award Winning, Sci-Fi</td>\n",
              "      <td>TV</td>\n",
              "      <td>26.0</td>\n",
              "      <td>spring 1998</td>\n",
              "      <td>Original</td>\n",
              "      <td>R - 17+ (violence &amp; profanity)</td>\n",
              "    </tr>\n",
              "    <tr>\n",
              "      <th>1</th>\n",
              "      <td>Cowboy Bebop: The Movie</td>\n",
              "      <td>8.38</td>\n",
              "      <td>Action, Sci-Fi</td>\n",
              "      <td>Movie</td>\n",
              "      <td>1.0</td>\n",
              "      <td>UNKNOWN</td>\n",
              "      <td>Original</td>\n",
              "      <td>R - 17+ (violence &amp; profanity)</td>\n",
              "    </tr>\n",
              "    <tr>\n",
              "      <th>2</th>\n",
              "      <td>Trigun</td>\n",
              "      <td>8.22</td>\n",
              "      <td>Action, Adventure, Sci-Fi</td>\n",
              "      <td>TV</td>\n",
              "      <td>26.0</td>\n",
              "      <td>spring 1998</td>\n",
              "      <td>Manga</td>\n",
              "      <td>PG-13 - Teens 13 or older</td>\n",
              "    </tr>\n",
              "    <tr>\n",
              "      <th>3</th>\n",
              "      <td>Witch Hunter Robin</td>\n",
              "      <td>7.25</td>\n",
              "      <td>Action, Drama, Mystery, Supernatural</td>\n",
              "      <td>TV</td>\n",
              "      <td>26.0</td>\n",
              "      <td>summer 2002</td>\n",
              "      <td>Original</td>\n",
              "      <td>PG-13 - Teens 13 or older</td>\n",
              "    </tr>\n",
              "    <tr>\n",
              "      <th>4</th>\n",
              "      <td>Beet the Vandel Buster</td>\n",
              "      <td>6.94</td>\n",
              "      <td>Adventure, Fantasy, Supernatural</td>\n",
              "      <td>TV</td>\n",
              "      <td>52.0</td>\n",
              "      <td>fall 2004</td>\n",
              "      <td>Manga</td>\n",
              "      <td>PG - Children</td>\n",
              "    </tr>\n",
              "  </tbody>\n",
              "</table>\n",
              "</div>\n",
              "    <div class=\"colab-df-buttons\">\n",
              "\n",
              "  <div class=\"colab-df-container\">\n",
              "    <button class=\"colab-df-convert\" onclick=\"convertToInteractive('df-d6f78206-734a-4d67-ada3-598a25f00ec7')\"\n",
              "            title=\"Convert this dataframe to an interactive table.\"\n",
              "            style=\"display:none;\">\n",
              "\n",
              "  <svg xmlns=\"http://www.w3.org/2000/svg\" height=\"24px\" viewBox=\"0 -960 960 960\">\n",
              "    <path d=\"M120-120v-720h720v720H120Zm60-500h600v-160H180v160Zm220 220h160v-160H400v160Zm0 220h160v-160H400v160ZM180-400h160v-160H180v160Zm440 0h160v-160H620v160ZM180-180h160v-160H180v160Zm440 0h160v-160H620v160Z\"/>\n",
              "  </svg>\n",
              "    </button>\n",
              "\n",
              "  <style>\n",
              "    .colab-df-container {\n",
              "      display:flex;\n",
              "      gap: 12px;\n",
              "    }\n",
              "\n",
              "    .colab-df-convert {\n",
              "      background-color: #E8F0FE;\n",
              "      border: none;\n",
              "      border-radius: 50%;\n",
              "      cursor: pointer;\n",
              "      display: none;\n",
              "      fill: #1967D2;\n",
              "      height: 32px;\n",
              "      padding: 0 0 0 0;\n",
              "      width: 32px;\n",
              "    }\n",
              "\n",
              "    .colab-df-convert:hover {\n",
              "      background-color: #E2EBFA;\n",
              "      box-shadow: 0px 1px 2px rgba(60, 64, 67, 0.3), 0px 1px 3px 1px rgba(60, 64, 67, 0.15);\n",
              "      fill: #174EA6;\n",
              "    }\n",
              "\n",
              "    .colab-df-buttons div {\n",
              "      margin-bottom: 4px;\n",
              "    }\n",
              "\n",
              "    [theme=dark] .colab-df-convert {\n",
              "      background-color: #3B4455;\n",
              "      fill: #D2E3FC;\n",
              "    }\n",
              "\n",
              "    [theme=dark] .colab-df-convert:hover {\n",
              "      background-color: #434B5C;\n",
              "      box-shadow: 0px 1px 3px 1px rgba(0, 0, 0, 0.15);\n",
              "      filter: drop-shadow(0px 1px 2px rgba(0, 0, 0, 0.3));\n",
              "      fill: #FFFFFF;\n",
              "    }\n",
              "  </style>\n",
              "\n",
              "    <script>\n",
              "      const buttonEl =\n",
              "        document.querySelector('#df-d6f78206-734a-4d67-ada3-598a25f00ec7 button.colab-df-convert');\n",
              "      buttonEl.style.display =\n",
              "        google.colab.kernel.accessAllowed ? 'block' : 'none';\n",
              "\n",
              "      async function convertToInteractive(key) {\n",
              "        const element = document.querySelector('#df-d6f78206-734a-4d67-ada3-598a25f00ec7');\n",
              "        const dataTable =\n",
              "          await google.colab.kernel.invokeFunction('convertToInteractive',\n",
              "                                                    [key], {});\n",
              "        if (!dataTable) return;\n",
              "\n",
              "        const docLinkHtml = 'Like what you see? Visit the ' +\n",
              "          '<a target=\"_blank\" href=https://colab.research.google.com/notebooks/data_table.ipynb>data table notebook</a>'\n",
              "          + ' to learn more about interactive tables.';\n",
              "        element.innerHTML = '';\n",
              "        dataTable['output_type'] = 'display_data';\n",
              "        await google.colab.output.renderOutput(dataTable, element);\n",
              "        const docLink = document.createElement('div');\n",
              "        docLink.innerHTML = docLinkHtml;\n",
              "        element.appendChild(docLink);\n",
              "      }\n",
              "    </script>\n",
              "  </div>\n",
              "\n",
              "\n",
              "<div id=\"df-ddf88c90-ac1b-42b1-87a3-85b28fbbfc6e\">\n",
              "  <button class=\"colab-df-quickchart\" onclick=\"quickchart('df-ddf88c90-ac1b-42b1-87a3-85b28fbbfc6e')\"\n",
              "            title=\"Suggest charts.\"\n",
              "            style=\"display:none;\">\n",
              "\n",
              "<svg xmlns=\"http://www.w3.org/2000/svg\" height=\"24px\"viewBox=\"0 0 24 24\"\n",
              "     width=\"24px\">\n",
              "    <g>\n",
              "        <path d=\"M19 3H5c-1.1 0-2 .9-2 2v14c0 1.1.9 2 2 2h14c1.1 0 2-.9 2-2V5c0-1.1-.9-2-2-2zM9 17H7v-7h2v7zm4 0h-2V7h2v10zm4 0h-2v-4h2v4z\"/>\n",
              "    </g>\n",
              "</svg>\n",
              "  </button>\n",
              "\n",
              "<style>\n",
              "  .colab-df-quickchart {\n",
              "      --bg-color: #E8F0FE;\n",
              "      --fill-color: #1967D2;\n",
              "      --hover-bg-color: #E2EBFA;\n",
              "      --hover-fill-color: #174EA6;\n",
              "      --disabled-fill-color: #AAA;\n",
              "      --disabled-bg-color: #DDD;\n",
              "  }\n",
              "\n",
              "  [theme=dark] .colab-df-quickchart {\n",
              "      --bg-color: #3B4455;\n",
              "      --fill-color: #D2E3FC;\n",
              "      --hover-bg-color: #434B5C;\n",
              "      --hover-fill-color: #FFFFFF;\n",
              "      --disabled-bg-color: #3B4455;\n",
              "      --disabled-fill-color: #666;\n",
              "  }\n",
              "\n",
              "  .colab-df-quickchart {\n",
              "    background-color: var(--bg-color);\n",
              "    border: none;\n",
              "    border-radius: 50%;\n",
              "    cursor: pointer;\n",
              "    display: none;\n",
              "    fill: var(--fill-color);\n",
              "    height: 32px;\n",
              "    padding: 0;\n",
              "    width: 32px;\n",
              "  }\n",
              "\n",
              "  .colab-df-quickchart:hover {\n",
              "    background-color: var(--hover-bg-color);\n",
              "    box-shadow: 0 1px 2px rgba(60, 64, 67, 0.3), 0 1px 3px 1px rgba(60, 64, 67, 0.15);\n",
              "    fill: var(--button-hover-fill-color);\n",
              "  }\n",
              "\n",
              "  .colab-df-quickchart-complete:disabled,\n",
              "  .colab-df-quickchart-complete:disabled:hover {\n",
              "    background-color: var(--disabled-bg-color);\n",
              "    fill: var(--disabled-fill-color);\n",
              "    box-shadow: none;\n",
              "  }\n",
              "\n",
              "  .colab-df-spinner {\n",
              "    border: 2px solid var(--fill-color);\n",
              "    border-color: transparent;\n",
              "    border-bottom-color: var(--fill-color);\n",
              "    animation:\n",
              "      spin 1s steps(1) infinite;\n",
              "  }\n",
              "\n",
              "  @keyframes spin {\n",
              "    0% {\n",
              "      border-color: transparent;\n",
              "      border-bottom-color: var(--fill-color);\n",
              "      border-left-color: var(--fill-color);\n",
              "    }\n",
              "    20% {\n",
              "      border-color: transparent;\n",
              "      border-left-color: var(--fill-color);\n",
              "      border-top-color: var(--fill-color);\n",
              "    }\n",
              "    30% {\n",
              "      border-color: transparent;\n",
              "      border-left-color: var(--fill-color);\n",
              "      border-top-color: var(--fill-color);\n",
              "      border-right-color: var(--fill-color);\n",
              "    }\n",
              "    40% {\n",
              "      border-color: transparent;\n",
              "      border-right-color: var(--fill-color);\n",
              "      border-top-color: var(--fill-color);\n",
              "    }\n",
              "    60% {\n",
              "      border-color: transparent;\n",
              "      border-right-color: var(--fill-color);\n",
              "    }\n",
              "    80% {\n",
              "      border-color: transparent;\n",
              "      border-right-color: var(--fill-color);\n",
              "      border-bottom-color: var(--fill-color);\n",
              "    }\n",
              "    90% {\n",
              "      border-color: transparent;\n",
              "      border-bottom-color: var(--fill-color);\n",
              "    }\n",
              "  }\n",
              "</style>\n",
              "\n",
              "  <script>\n",
              "    async function quickchart(key) {\n",
              "      const quickchartButtonEl =\n",
              "        document.querySelector('#' + key + ' button');\n",
              "      quickchartButtonEl.disabled = true;  // To prevent multiple clicks.\n",
              "      quickchartButtonEl.classList.add('colab-df-spinner');\n",
              "      try {\n",
              "        const charts = await google.colab.kernel.invokeFunction(\n",
              "            'suggestCharts', [key], {});\n",
              "      } catch (error) {\n",
              "        console.error('Error during call to suggestCharts:', error);\n",
              "      }\n",
              "      quickchartButtonEl.classList.remove('colab-df-spinner');\n",
              "      quickchartButtonEl.classList.add('colab-df-quickchart-complete');\n",
              "    }\n",
              "    (() => {\n",
              "      let quickchartButtonEl =\n",
              "        document.querySelector('#df-ddf88c90-ac1b-42b1-87a3-85b28fbbfc6e button');\n",
              "      quickchartButtonEl.style.display =\n",
              "        google.colab.kernel.accessAllowed ? 'block' : 'none';\n",
              "    })();\n",
              "  </script>\n",
              "</div>\n",
              "    </div>\n",
              "  </div>\n"
            ]
          },
          "metadata": {},
          "execution_count": 100
        }
      ]
    },
    {
      "cell_type": "markdown",
      "source": [
        "#Удаление ненужных строк (фильтрация)"
      ],
      "metadata": {
        "id": "idVbZr7ryI7h"
      }
    },
    {
      "cell_type": "code",
      "source": [
        "data = data.loc[data['Score'] != 'UNKNOWN']\n",
        "data = data.loc[data['Episodes'] != '1.0']\n",
        "data = data.loc[data['Type'].isin(['ONA', 'TV', 'UNKNOWN'])]\n",
        "data = data.loc[data['Source'].isin(['Original', 'Manga' 'Light novel', '4-koma manga', 'Visual novel', 'Other', 'Novel', 'Game', 'Book', 'Web manga', 'Mixed media', 'Card game', 'Web novel', 'UNKNOWN'])]"
      ],
      "metadata": {
        "id": "VdZq0f-TyO5t"
      },
      "execution_count": 101,
      "outputs": []
    },
    {
      "cell_type": "markdown",
      "source": [
        "## Удаление \"плохих\" жанров"
      ],
      "metadata": {
        "id": "BsPJj9AwgedZ"
      }
    },
    {
      "cell_type": "code",
      "source": [
        "cid = data.columns.get_loc('Genres')\n",
        "rows_to_drop=[]\n",
        "for i in range(data.shape[0]):\n",
        "  cur = data.iat[i, cid]\n",
        "  if cur.find('Hentai') != -1 or cur.find('Erotica') != -1:\n",
        "    rows_to_drop.append(i)\n",
        "\n",
        "data.reset_index(inplace=True)\n",
        "data.drop(rows_to_drop, inplace=True)\n",
        "data.drop('index', inplace=True, axis=1)\n",
        "data.reset_index(inplace=True)\n",
        "data.drop('index', inplace=True, axis=1)"
      ],
      "metadata": {
        "id": "ZoHwdz3rW3wp"
      },
      "execution_count": 102,
      "outputs": []
    },
    {
      "cell_type": "markdown",
      "source": [
        "## Удаление сиквелов \\\\ приквелов"
      ],
      "metadata": {
        "id": "0MKKcJLLgtsv"
      }
    },
    {
      "cell_type": "code",
      "source": [
        "def mycmp(name):\n",
        "  return len(name[0])\n",
        "\n",
        "names=[]\n",
        "i=0\n",
        "for name in data['English name']:\n",
        "  names.append((name, i))\n",
        "  i+=1\n",
        "names = sorted(names, key=mycmp)\n",
        "\n",
        "rows_to_drop=[]\n",
        "for index, name in enumerate(names):\n",
        "  spaces = name[0].count(' ')\n",
        "  for i in range(index+1, data.shape[0]):\n",
        "    if names[i][0].count(' ') > spaces and names[i][0].startswith(name[0]):\n",
        "      rows_to_drop.append(names[i][1])\n",
        "\n",
        "data.drop(rows_to_drop, inplace=True)\n",
        "data.reset_index(inplace=True)\n",
        "data.drop('index', inplace=True, axis=1)\n",
        "data.drop('English name', inplace=True, axis=1)"
      ],
      "metadata": {
        "id": "c2ZYIpkQW1B_"
      },
      "execution_count": 103,
      "outputs": []
    },
    {
      "cell_type": "markdown",
      "source": [
        "#Преобразование данных"
      ],
      "metadata": {
        "id": "jIpEYmGC4ahS"
      }
    },
    {
      "cell_type": "markdown",
      "source": [
        "## Столбец Genres"
      ],
      "metadata": {
        "id": "EUUz6GIL0NPw"
      }
    },
    {
      "cell_type": "code",
      "source": [
        "unique_genres={}\n",
        "cid = data.columns.get_loc('Genres')\n",
        "for i in range(data.shape[0]):\n",
        "  cur = data.iat[i, cid]\n",
        "  genres = cur.split(', ')\n",
        "  for genre in genres:\n",
        "    if genre in unique_genres:\n",
        "      unique_genres[genre]+=1\n",
        "    else:\n",
        "      unique_genres[genre]=0\n",
        "unique_genres = sorted(unique_genres.items(), key=lambda item: item[1], reverse=True)\n",
        "print(data.shape)\n",
        "unique_genres"
      ],
      "metadata": {
        "id": "CGdOb3RPIB-I",
        "colab": {
          "base_uri": "https://localhost:8080/"
        },
        "outputId": "748d0db8-2149-414d-b5a4-051c42dafe57"
      },
      "execution_count": 104,
      "outputs": [
        {
          "output_type": "stream",
          "name": "stdout",
          "text": [
            "(2635, 7)\n"
          ]
        },
        {
          "output_type": "execute_result",
          "data": {
            "text/plain": [
              "[('Comedy', 983),\n",
              " ('Action', 891),\n",
              " ('Fantasy', 733),\n",
              " ('Adventure', 608),\n",
              " ('Sci-Fi', 590),\n",
              " ('Drama', 417),\n",
              " ('Slice of Life', 326),\n",
              " ('Romance', 317),\n",
              " ('Supernatural', 200),\n",
              " ('Mystery', 188),\n",
              " ('UNKNOWN', 130),\n",
              " ('Ecchi', 97),\n",
              " ('Sports', 83),\n",
              " ('Horror', 69),\n",
              " ('Suspense', 46),\n",
              " ('Award Winning', 32),\n",
              " ('Gourmet', 32),\n",
              " ('Boys Love', 21),\n",
              " ('Girls Love', 15),\n",
              " ('Avant Garde', 11)]"
            ]
          },
          "metadata": {},
          "execution_count": 104
        }
      ]
    },
    {
      "cell_type": "code",
      "source": [
        "usable_genres=[]\n",
        "for genre in unique_genres:\n",
        "  if float(genre[1]) > data.shape[0]*0.05:\n",
        "    usable_genres.append(genre[0])\n",
        "    data.insert(cid+1, 'Genre ' + genre[0], 0)\n",
        "\n",
        "usable_genres"
      ],
      "metadata": {
        "colab": {
          "base_uri": "https://localhost:8080/"
        },
        "id": "8zGQWwyMsI-V",
        "outputId": "1842913b-da58-4368-95c8-efc5f51380d1"
      },
      "execution_count": 105,
      "outputs": [
        {
          "output_type": "execute_result",
          "data": {
            "text/plain": [
              "['Comedy',\n",
              " 'Action',\n",
              " 'Fantasy',\n",
              " 'Adventure',\n",
              " 'Sci-Fi',\n",
              " 'Drama',\n",
              " 'Slice of Life',\n",
              " 'Romance',\n",
              " 'Supernatural',\n",
              " 'Mystery']"
            ]
          },
          "metadata": {},
          "execution_count": 105
        }
      ]
    },
    {
      "cell_type": "code",
      "source": [
        "rows_to_drop=[]\n",
        "for i in range(data.shape[0]):\n",
        "  cur = data.iat[i, cid]\n",
        "  genres = cur.split(', ')\n",
        "  f=0\n",
        "  for genre in genres:\n",
        "    if genre not in usable_genres:\n",
        "      f=1\n",
        "      rows_to_drop.append(i)\n",
        "      break\n",
        "  if f==0:\n",
        "    for genre in genres:\n",
        "      data.iat[i, data.columns.get_loc('Genre ' + genre)]=1\n",
        "\n",
        "data.drop(rows_to_drop, inplace=True)\n",
        "data.reset_index(inplace=True)\n",
        "data.drop('index', inplace=True, axis=1)\n",
        "data.drop('Genres', inplace=True, axis=1)\n",
        "data.shape"
      ],
      "metadata": {
        "colab": {
          "base_uri": "https://localhost:8080/"
        },
        "id": "gPVozNGCt9Ou",
        "outputId": "171d9915-4c88-4674-8e47-22e689500dbd"
      },
      "execution_count": 106,
      "outputs": [
        {
          "output_type": "execute_result",
          "data": {
            "text/plain": [
              "(2117, 16)"
            ]
          },
          "metadata": {},
          "execution_count": 106
        }
      ]
    },
    {
      "cell_type": "markdown",
      "source": [
        "## Столбец Episodes"
      ],
      "metadata": {
        "id": "icrr-EA00QLr"
      }
    },
    {
      "cell_type": "code",
      "source": [
        "cid = data.columns.get_loc('Episodes')\n",
        "for i in range(data.shape[0]):\n",
        "  cur = data.iat[i, cid]\n",
        "  if cur != 'UNKNOWN':\n",
        "    cur = float(cur)\n",
        "    if cur <= 18:\n",
        "      data.iat[i, cid] = 'half-season'\n",
        "    elif 18 < cur <= 36:\n",
        "      data.iat[i, cid] = 'season'\n",
        "    elif 36 < cur <= 60:\n",
        "      data.iat[i, cid] = 'double-season'\n",
        "    elif 60 < cur:\n",
        "      data.iat[i, cid] = 'no-season'"
      ],
      "metadata": {
        "id": "McZ0jnD_Ijv5"
      },
      "execution_count": 107,
      "outputs": []
    },
    {
      "cell_type": "markdown",
      "source": [
        "## Столбец Premiered"
      ],
      "metadata": {
        "id": "cNKEWrvU0ZUN"
      }
    },
    {
      "cell_type": "code",
      "source": [
        "cid = data.columns.get_loc('Premiered')\n",
        "for i in range(data.shape[0]):\n",
        "  cur = data.iat[i, cid]\n",
        "  if cur.startswith('spring'):\n",
        "    data.iat[i, cid] = 'spring'\n",
        "  elif cur.startswith('summer'):\n",
        "    data.iat[i, cid] = 'summer'\n",
        "  elif cur.startswith('fall'):\n",
        "    data.iat[i, cid] = 'fall'\n",
        "  elif cur.startswith('winter'):\n",
        "    data.iat[i, cid] = 'winter'\n"
      ],
      "metadata": {
        "id": "4vcB-Ep_JjHi"
      },
      "execution_count": 108,
      "outputs": []
    },
    {
      "cell_type": "markdown",
      "source": [
        "# Борьба с выбросами \\\\ пропущенными значениями (UNKNOWN)"
      ],
      "metadata": {
        "id": "micfYwE0GzD6"
      }
    },
    {
      "cell_type": "code",
      "source": [
        "data['Score'] = data['Score'].astype('float')\n",
        "rows_to_drop = data[(data['Score'] < data['Score'].quantile(0.005)) | (data['Score'] > data['Score'].quantile(0.995))].index\n",
        "data.drop(rows_to_drop, inplace=True)\n",
        "data.reset_index(inplace=True)\n",
        "data.drop('index', inplace=True, axis=1)\n",
        "data.shape\n"
      ],
      "metadata": {
        "id": "boQCkd-arCmO",
        "outputId": "72beb672-ec3c-4478-a0ff-8e1c8a22ae5e",
        "colab": {
          "base_uri": "https://localhost:8080/"
        }
      },
      "execution_count": 109,
      "outputs": [
        {
          "output_type": "execute_result",
          "data": {
            "text/plain": [
              "(2095, 16)"
            ]
          },
          "metadata": {},
          "execution_count": 109
        }
      ]
    },
    {
      "cell_type": "code",
      "source": [
        "print(data['Type'].value_counts())\n",
        "print(data['Episodes'].value_counts())\n",
        "print(data['Premiered'].value_counts())\n",
        "print(data['Source'].value_counts())\n",
        "print(data['Rating'].value_counts())"
      ],
      "metadata": {
        "colab": {
          "base_uri": "https://localhost:8080/"
        },
        "id": "L6UNEa2l39Wj",
        "outputId": "1d762f25-2632-459e-c9af-3abfab207381"
      },
      "execution_count": 110,
      "outputs": [
        {
          "output_type": "stream",
          "name": "stdout",
          "text": [
            "TV     1511\n",
            "ONA     584\n",
            "Name: Type, dtype: int64\n",
            "half-season      1196\n",
            "season            444\n",
            "double-season     357\n",
            "no-season          74\n",
            "UNKNOWN            24\n",
            "Name: Episodes, dtype: int64\n",
            "UNKNOWN    591\n",
            "spring     492\n",
            "fall       423\n",
            "winter     332\n",
            "summer     257\n",
            "Name: Premiered, dtype: int64\n",
            "Original        940\n",
            "Game            267\n",
            "Novel           234\n",
            "Web manga       151\n",
            "Other           147\n",
            "4-koma manga    123\n",
            "Visual novel     97\n",
            "Mixed media      38\n",
            "Web novel        34\n",
            "Book             32\n",
            "Card game        32\n",
            "Name: Source, dtype: int64\n",
            "PG-13 - Teens 13 or older         1310\n",
            "G - All Ages                       425\n",
            "PG - Children                      169\n",
            "R - 17+ (violence & profanity)     140\n",
            "R+ - Mild Nudity                    35\n",
            "UNKNOWN                             16\n",
            "Name: Rating, dtype: int64\n"
          ]
        }
      ]
    },
    {
      "cell_type": "code",
      "source": [
        "data=data.loc[data['Episodes'].isin(['half-season', 'season', 'double-season'])]\n",
        "data=data.loc[data['Source'].isin(['Original', 'Game', 'Novel', 'Web manga', 'Other', '4-koma manga', 'Visual novel'])]\n",
        "data=data.loc[data['Rating'].isin(['PG-13 - Teens 13 or older', 'G - All Ages', 'PG - Children', 'R - 17+ (violence & profanity)'])]\n",
        "data.shape"
      ],
      "metadata": {
        "id": "qYyVABlZx4ar",
        "outputId": "7cc3489b-a498-4e77-9951-5ddb272a54e4",
        "colab": {
          "base_uri": "https://localhost:8080/"
        }
      },
      "execution_count": 111,
      "outputs": [
        {
          "output_type": "execute_result",
          "data": {
            "text/plain": [
              "(1827, 16)"
            ]
          },
          "metadata": {},
          "execution_count": 111
        }
      ]
    },
    {
      "cell_type": "code",
      "source": [
        "print(data['Premiered'].value_counts())"
      ],
      "metadata": {
        "id": "fKl0I2X-DkTX",
        "colab": {
          "base_uri": "https://localhost:8080/"
        },
        "outputId": "6117e966-9a18-40a1-fb63-3c4cd2252cf0"
      },
      "execution_count": 112,
      "outputs": [
        {
          "output_type": "stream",
          "name": "stdout",
          "text": [
            "UNKNOWN    504\n",
            "spring     442\n",
            "fall       357\n",
            "winter     293\n",
            "summer     231\n",
            "Name: Premiered, dtype: int64\n"
          ]
        }
      ]
    },
    {
      "cell_type": "markdown",
      "source": [
        "# Преобразование типов"
      ],
      "metadata": {
        "id": "mfAnpcj0lxZh"
      }
    },
    {
      "cell_type": "code",
      "source": [
        "data['Type'] = data['Type'].astype('category')\n",
        "data['Episodes'] = data['Episodes'].astype('category')\n",
        "data['Premiered'] = data['Premiered'].astype('category')\n",
        "data['Source'] = data['Source'].astype('category')\n",
        "data['Rating'] = data['Rating'].astype('category')"
      ],
      "metadata": {
        "id": "UEXwGp8Gl0OU"
      },
      "execution_count": 113,
      "outputs": []
    },
    {
      "cell_type": "markdown",
      "source": [
        "# Визуализация"
      ],
      "metadata": {
        "id": "rg2TyqTs744h"
      }
    },
    {
      "cell_type": "markdown",
      "source": [
        "# Нормализация"
      ],
      "metadata": {
        "id": "6EzIlZCk7cc5"
      }
    },
    {
      "cell_type": "code",
      "source": [
        "data = pd.concat((data, pd.get_dummies(data['Type'])), axis=1)\n",
        "data = pd.concat((data, pd.get_dummies(data['Episodes'])), axis=1)\n",
        "data = pd.concat((data, pd.get_dummies(data['Premiered'])), axis=1)\n",
        "data = pd.concat((data, pd.get_dummies(data['Source'])), axis=1)\n",
        "data = pd.concat((data, pd.get_dummies(data['Rating'])), axis=1)\n",
        "\n",
        "data.drop('Type', inplace=True, axis=1)\n",
        "data.drop('Episodes', inplace=True, axis=1)\n",
        "data.drop('Premiered', inplace=True, axis=1)\n",
        "data.drop('Source', inplace=True, axis=1)\n",
        "data.drop('Rating', inplace=True, axis=1)\n",
        "data.shape"
      ],
      "metadata": {
        "colab": {
          "base_uri": "https://localhost:8080/"
        },
        "id": "AQpCB4fY7fio",
        "outputId": "0c27bc8a-3abd-4021-bcef-44ad6a84c5d6"
      },
      "execution_count": 114,
      "outputs": [
        {
          "output_type": "execute_result",
          "data": {
            "text/plain": [
              "(1827, 32)"
            ]
          },
          "metadata": {},
          "execution_count": 114
        }
      ]
    },
    {
      "cell_type": "markdown",
      "source": [
        "# Machine learning"
      ],
      "metadata": {
        "id": "udQk2O1c8BVI"
      }
    },
    {
      "cell_type": "markdown",
      "source": [
        "# TODO\n",
        "Визуализировать данные и вычислить основные характеристики (среднее, разброс, корреляционную матрицу и т.д.). Интерпретировать.\n",
        "## Добавить текстовый признак \"сюжет\"?\n",
        "\\\n",
        "1 Разбить данные на обучающую и тестовую выборки\\\n",
        "2 Запустить классификатор (регрессию) ближайших соседей или другой (аргументировать свой выбор)\\\n",
        "3 Подобрать оптимальное значение к-ва ближайших соседей (или другого релевантного гиперпараметра)\\\n",
        "4 Вычислить ошибки на обучающей и тестовой выборках. Сделать выводы\\\n",
        "5 По желанию: запустить другие классификаторы. Сравнить результаты\\\n",
        "6 По желанию: как-то побороться с несбалансированностью классов (если она есть)\\\n",
        "7 По желанию: исключить коррелированные переменные (объяснить зачем)\\\n",
        "8 Сделать общие выводы\n",
        "\n"
      ],
      "metadata": {
        "id": "VUcVKeJYDzxa"
      }
    }
  ]
}